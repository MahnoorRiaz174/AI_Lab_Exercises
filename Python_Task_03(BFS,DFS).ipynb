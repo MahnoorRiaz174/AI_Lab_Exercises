{
  "nbformat": 4,
  "nbformat_minor": 0,
  "metadata": {
    "colab": {
      "provenance": [],
      "authorship_tag": "ABX9TyONayCNvV2F1V/P1jGI/ITS",
      "include_colab_link": true
    },
    "kernelspec": {
      "name": "python3",
      "display_name": "Python 3"
    },
    "language_info": {
      "name": "python"
    }
  },
  "cells": [
    {
      "cell_type": "markdown",
      "metadata": {
        "id": "view-in-github",
        "colab_type": "text"
      },
      "source": [
        "<a href=\"https://colab.research.google.com/github/MahnoorRiaz174/AI_Lab_Exercises/blob/main/Python_Task_03(BFS%2CDFS).ipynb\" target=\"_parent\"><img src=\"https://colab.research.google.com/assets/colab-badge.svg\" alt=\"Open In Colab\"/></a>"
      ]
    },
    {
      "cell_type": "code",
      "execution_count": null,
      "metadata": {
        "id": "a_IsFs3opbtC",
        "colab": {
          "base_uri": "https://localhost:8080/"
        },
        "outputId": "e29abf12-d9c7-46cd-b3ea-b041be2d250f"
      },
      "outputs": [
        {
          "output_type": "stream",
          "name": "stdout",
          "text": [
            "Following is the Breadth-First Search:\n",
            "5 3 7 2 4 8 "
          ]
        }
      ],
      "source": [
        "#Practice Task\n",
        "#Implementation of BFS in Python\n",
        "# Define the graph\n",
        "graph = {\n",
        "    '5': ['3', '7'],\n",
        "    '3': ['2', '4'],\n",
        "    '7': ['8'],\n",
        "    '2': [],\n",
        "    '4': ['8'],\n",
        "    '8': []\n",
        "}\n",
        "\n",
        "# List for visited nodes\n",
        "visited = []\n",
        "\n",
        "# Initialize a queue\n",
        "queue = []\n",
        "\n",
        "# Function for BFS\n",
        "def bfs(visited, graph, node):\n",
        "    visited.append(node)\n",
        "    queue.append(node)\n",
        "\n",
        "    while queue:  # Creating loop to visit each node\n",
        "        m = queue.pop(0)\n",
        "        print(m, end=\" \")\n",
        "\n",
        "        for neighbour in graph[m]:\n",
        "            if neighbour not in visited:\n",
        "                visited.append(neighbour)\n",
        "                queue.append(neighbour)\n",
        "\n",
        "# Driver code\n",
        "print(\"Following is the Breadth-First Search:\")\n",
        "bfs(visited, graph, '5')  # Corrected: '5' is a string now\n"
      ]
    },
    {
      "cell_type": "code",
      "source": [
        "# Task 01 : Write a Python function to perform topological sorting of a directed acyclic graph (DAG) using BFS. You are required to write a Python function to count the number of connected components in an undirected graph using BFS.\n",
        "# Define your graph\n",
        "graph = {\n",
        "    0: [1, 3],\n",
        "    1: [2, 3],\n",
        "    2: [3, 4, 5],\n",
        "    3: [4, 5],\n",
        "    4: [5],\n",
        "    5: []\n",
        "}\n",
        "\n",
        "# List to track visited nodes\n",
        "visited = []\n",
        "\n",
        "# Queue for BFS\n",
        "queue = []\n",
        "\n",
        "def bfs(visited, graph, node):\n",
        "    visited.append(node)\n",
        "    queue.append(node)\n",
        "\n",
        "    while queue:\n",
        "        m = queue.pop(0)\n",
        "        print(m, end=\" \")\n",
        "\n",
        "        for neighbour in graph[m]:\n",
        "            if neighbour not in visited:\n",
        "                visited.append(neighbour)\n",
        "                queue.append(neighbour)\n",
        "\n",
        "# Driver code\n",
        "print(\"Following is the Breadth-First Search traversal starting from node 0:\")\n",
        "bfs(visited, graph, 0)\n",
        "\n"
      ],
      "metadata": {
        "colab": {
          "base_uri": "https://localhost:8080/"
        },
        "id": "jSREcf3_96XS",
        "outputId": "43848c7b-e6ee-4a1a-c6f6-6526f77abb39"
      },
      "execution_count": null,
      "outputs": [
        {
          "output_type": "stream",
          "name": "stdout",
          "text": [
            "Following is the Breadth-First Search traversal starting from node 0:\n",
            "0 1 3 2 4 5 "
          ]
        }
      ]
    },
    {
      "cell_type": "code",
      "source": [
        "# Task 02 : You are given the following tree whose starting node is A and Goal node is F.\n",
        "# Define the graph correctly\n",
        "graph = {\n",
        "    \"A\": [\"B\"],\n",
        "    \"B\": [\"C\"],\n",
        "    \"C\": [\"E\"],\n",
        "    \"E\": [\"D\", \"F\"],\n",
        "    \"D\": [\"B\"],\n",
        "    \"F\": []\n",
        "}\n",
        "\n",
        "# DFS function\n",
        "def dfs(graph, start, visited=None):\n",
        "    if visited is None:\n",
        "        visited = set()\n",
        "\n",
        "    visited.add(start)\n",
        "    print(start)  # Process the node\n",
        "\n",
        "    for neighbor in graph[start]:\n",
        "        if neighbor not in visited:\n",
        "            dfs(graph, neighbor, visited)\n",
        "\n",
        "    return visited\n",
        "\n",
        "# Start DFS from 'A'\n",
        "dfs(graph, \"A\")\n",
        "\n"
      ],
      "metadata": {
        "id": "TlaTqtKiGNnO",
        "colab": {
          "base_uri": "https://localhost:8080/"
        },
        "outputId": "ee3dcc24-834e-4893-e255-9d04ec73b6dd"
      },
      "execution_count": null,
      "outputs": [
        {
          "output_type": "stream",
          "name": "stdout",
          "text": [
            "A\n",
            "B\n",
            "C\n",
            "E\n",
            "D\n",
            "F\n"
          ]
        },
        {
          "output_type": "execute_result",
          "data": {
            "text/plain": [
              "{'A', 'B', 'C', 'D', 'E', 'F'}"
            ]
          },
          "metadata": {},
          "execution_count": 3
        }
      ]
    }
  ]
}